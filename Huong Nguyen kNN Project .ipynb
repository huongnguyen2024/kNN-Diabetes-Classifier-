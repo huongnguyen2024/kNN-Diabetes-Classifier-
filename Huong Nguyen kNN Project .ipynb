{
 "cells": [
  {
   "cell_type": "code",
   "execution_count": 55,
   "id": "e09a4da3",
   "metadata": {},
   "outputs": [],
   "source": [
    "#Run these codes to import necessary libraries \n",
    "\n",
    "import numpy as np\n",
    "import math\n",
    "import matplotlib\n",
    "import matplotlib.pyplot as plots\n",
    "import pandas as pd\n",
    "%matplotlib inline\n",
    "from datascience import Table\n",
    "from datascience import *"
   ]
  },
  {
   "cell_type": "markdown",
   "id": "fb1de4d1",
   "metadata": {},
   "source": [
    "# Diabetes Classifier - Produced by Huong Nguyen"
   ]
  },
  {
   "cell_type": "markdown",
   "id": "9e515d8b",
   "metadata": {},
   "source": [
    "References:\n",
    "\n",
    "The diabetes data set is obtained and downloaded from the source: https://www.kaggle.com/datasets/mathchi/diabetes-data-set\n",
    "\n",
    "The techniques applied in this project are what I have learned from the Data Science course - Data 8 instructed by UC Berkeley Professors and taken at Pasadena City College.  "
   ]
  },
  {
   "cell_type": "code",
   "execution_count": 102,
   "id": "95e56fa5",
   "metadata": {},
   "outputs": [],
   "source": [
    "pd.read_csv('C:\\\\Users\\\\huong\\\\diabetes.csv')\n",
    "df = pd.read_csv('diabetes.csv')"
   ]
  },
  {
   "cell_type": "code",
   "execution_count": 103,
   "id": "520e6447",
   "metadata": {},
   "outputs": [
    {
     "data": {
      "text/html": [
       "<table border=\"1\" class=\"dataframe\">\n",
       "    <thead>\n",
       "        <tr>\n",
       "            <th>Pregnancies</th> <th>Glucose</th> <th>BloodPressure</th> <th>SkinThickness</th> <th>Insulin</th> <th>BMI</th> <th>DiabetesPedigreeFunction</th> <th>Age</th> <th>Outcome</th>\n",
       "        </tr>\n",
       "    </thead>\n",
       "    <tbody>\n",
       "        <tr>\n",
       "            <td>6          </td> <td>148    </td> <td>72           </td> <td>35           </td> <td>0      </td> <td>33.6</td> <td>0.627                   </td> <td>50  </td> <td>1      </td>\n",
       "        </tr>\n",
       "        <tr>\n",
       "            <td>1          </td> <td>85     </td> <td>66           </td> <td>29           </td> <td>0      </td> <td>26.6</td> <td>0.351                   </td> <td>31  </td> <td>0      </td>\n",
       "        </tr>\n",
       "        <tr>\n",
       "            <td>8          </td> <td>183    </td> <td>64           </td> <td>0            </td> <td>0      </td> <td>23.3</td> <td>0.672                   </td> <td>32  </td> <td>1      </td>\n",
       "        </tr>\n",
       "        <tr>\n",
       "            <td>1          </td> <td>89     </td> <td>66           </td> <td>23           </td> <td>94     </td> <td>28.1</td> <td>0.167                   </td> <td>21  </td> <td>0      </td>\n",
       "        </tr>\n",
       "        <tr>\n",
       "            <td>0          </td> <td>137    </td> <td>40           </td> <td>35           </td> <td>168    </td> <td>43.1</td> <td>2.288                   </td> <td>33  </td> <td>1      </td>\n",
       "        </tr>\n",
       "        <tr>\n",
       "            <td>5          </td> <td>116    </td> <td>74           </td> <td>0            </td> <td>0      </td> <td>25.6</td> <td>0.201                   </td> <td>30  </td> <td>0      </td>\n",
       "        </tr>\n",
       "        <tr>\n",
       "            <td>3          </td> <td>78     </td> <td>50           </td> <td>32           </td> <td>88     </td> <td>31  </td> <td>0.248                   </td> <td>26  </td> <td>1      </td>\n",
       "        </tr>\n",
       "        <tr>\n",
       "            <td>10         </td> <td>115    </td> <td>0            </td> <td>0            </td> <td>0      </td> <td>35.3</td> <td>0.134                   </td> <td>29  </td> <td>0      </td>\n",
       "        </tr>\n",
       "        <tr>\n",
       "            <td>2          </td> <td>197    </td> <td>70           </td> <td>45           </td> <td>543    </td> <td>30.5</td> <td>0.158                   </td> <td>53  </td> <td>1      </td>\n",
       "        </tr>\n",
       "        <tr>\n",
       "            <td>8          </td> <td>125    </td> <td>96           </td> <td>0            </td> <td>0      </td> <td>0   </td> <td>0.232                   </td> <td>54  </td> <td>1      </td>\n",
       "        </tr>\n",
       "    </tbody>\n",
       "</table>\n",
       "<p>... (758 rows omitted)</p>"
      ],
      "text/plain": [
       "Pregnancies | Glucose | BloodPressure | SkinThickness | Insulin | BMI  | DiabetesPedigreeFunction | Age  | Outcome\n",
       "6           | 148     | 72            | 35            | 0       | 33.6 | 0.627                    | 50   | 1\n",
       "1           | 85      | 66            | 29            | 0       | 26.6 | 0.351                    | 31   | 0\n",
       "8           | 183     | 64            | 0             | 0       | 23.3 | 0.672                    | 32   | 1\n",
       "1           | 89      | 66            | 23            | 94      | 28.1 | 0.167                    | 21   | 0\n",
       "0           | 137     | 40            | 35            | 168     | 43.1 | 2.288                    | 33   | 1\n",
       "5           | 116     | 74            | 0             | 0       | 25.6 | 0.201                    | 30   | 0\n",
       "3           | 78      | 50            | 32            | 88      | 31   | 0.248                    | 26   | 1\n",
       "10          | 115     | 0             | 0             | 0       | 35.3 | 0.134                    | 29   | 0\n",
       "2           | 197     | 70            | 45            | 543     | 30.5 | 0.158                    | 53   | 1\n",
       "8           | 125     | 96            | 0             | 0       | 0    | 0.232                    | 54   | 1\n",
       "... (758 rows omitted)"
      ]
     },
     "execution_count": 103,
     "metadata": {},
     "output_type": "execute_result"
    }
   ],
   "source": [
    "diabetes = Table().read_table('diabetes.csv')\n",
    "diabetes\n",
    " "
   ]
  },
  {
   "cell_type": "markdown",
   "id": "6fb45836",
   "metadata": {},
   "source": [
    "The data collects diagnostic measurements on 768 21-year-old female patients from the National Institute of Diabetes and Digestive and Kidney Diseases. \n",
    "The objective of this data collection is to predict whether a patient is positive or negative to diabetes test. \n",
    "The \"Outcome\" indication, which later on will be renamed to \"Class\" for unified language purpose, demonstrates value of \"0\" and \"1\". Class value \"1\" interpreted as \"tested positive for diabetes\" and \"0\" as \"tested negative for diabetes\". "
   ]
  },
  {
   "cell_type": "markdown",
   "id": "bb700a84",
   "metadata": {},
   "source": [
    "The method called kNN or KNN (k-Nearest Neighbors Algorithm) is known as one of the methods of classification. \n",
    "The general idea is to build a classifier to predict the class of a new individual, based on the attributes and identified classes ( 0 or 1) of the training data set. \n",
    "\n",
    "In this project, I will build a classifier to predict whether a new 21-year-old female patient is positive or negative to diabetes based on the attributes of her diagnostic measurements and utilizing the training data set that is provided. In other words, to classify the new patient as diabetic or not, I find a \"k\" number of patients in the training set who are \"nearest\" to her, and then use the majority class of those patients as the prediction for her. The \"nearest\" patients have similar corresponding measurements with her, so I might expect them to receive the same classification result. "
   ]
  },
  {
   "cell_type": "markdown",
   "id": "55d32001",
   "metadata": {},
   "source": [
    "I will pick out 2 attributes \"BloodPressure\" and \"Glucose\" from the data set to build the classifier. I will also divide the data set to a training and a testing set. The training set is used to build the classifier.\n",
    "Then once the classifer is built, I will test its accuracy against the testing set. "
   ]
  },
  {
   "cell_type": "code",
   "execution_count": 104,
   "id": "b23beffb",
   "metadata": {},
   "outputs": [
    {
     "data": {
      "text/html": [
       "<table border=\"1\" class=\"dataframe\">\n",
       "    <thead>\n",
       "        <tr>\n",
       "            <th>BloodPressure</th> <th>Glucose</th> <th>Outcome</th>\n",
       "        </tr>\n",
       "    </thead>\n",
       "    <tbody>\n",
       "        <tr>\n",
       "            <td>72           </td> <td>148    </td> <td>1      </td>\n",
       "        </tr>\n",
       "        <tr>\n",
       "            <td>66           </td> <td>85     </td> <td>0      </td>\n",
       "        </tr>\n",
       "        <tr>\n",
       "            <td>64           </td> <td>183    </td> <td>1      </td>\n",
       "        </tr>\n",
       "        <tr>\n",
       "            <td>66           </td> <td>89     </td> <td>0      </td>\n",
       "        </tr>\n",
       "        <tr>\n",
       "            <td>40           </td> <td>137    </td> <td>1      </td>\n",
       "        </tr>\n",
       "        <tr>\n",
       "            <td>74           </td> <td>116    </td> <td>0      </td>\n",
       "        </tr>\n",
       "        <tr>\n",
       "            <td>50           </td> <td>78     </td> <td>1      </td>\n",
       "        </tr>\n",
       "        <tr>\n",
       "            <td>0            </td> <td>115    </td> <td>0      </td>\n",
       "        </tr>\n",
       "        <tr>\n",
       "            <td>70           </td> <td>197    </td> <td>1      </td>\n",
       "        </tr>\n",
       "        <tr>\n",
       "            <td>96           </td> <td>125    </td> <td>1      </td>\n",
       "        </tr>\n",
       "    </tbody>\n",
       "</table>\n",
       "<p>... (758 rows omitted)</p>"
      ],
      "text/plain": [
       "BloodPressure | Glucose | Outcome\n",
       "72            | 148     | 1\n",
       "66            | 85      | 0\n",
       "64            | 183     | 1\n",
       "66            | 89      | 0\n",
       "40            | 137     | 1\n",
       "74            | 116     | 0\n",
       "50            | 78      | 1\n",
       "0             | 115     | 0\n",
       "70            | 197     | 1\n",
       "96            | 125     | 1\n",
       "... (758 rows omitted)"
      ]
     },
     "execution_count": 104,
     "metadata": {},
     "output_type": "execute_result"
    }
   ],
   "source": [
    "#This is how the data set table is simplified after picking out the 2 attributes \n",
    "\n",
    "class_table = diabetes.select(\"BloodPressure\",\"Glucose\",\"Outcome\")\n",
    "class_table"
   ]
  },
  {
   "cell_type": "markdown",
   "id": "a0ef42cf",
   "metadata": {},
   "source": [
    "The next step is to convert the measurements of attributes \"Glucose\" and \"Blood Pressure\" to a same kind of unit, which is the standard unit. For the purpose of calculation and comparisons, we will need the conversion of unit so that we won't have to worry about the scale of each different attribute. Each attribute is stored in an array of values. \n",
    "\n",
    "Following is the function for the conversion and the new table \"classified_table\" with the 2 attributes Glucose and BloodPressure data being converted. The \"Outcome\" column will also be renamed to \"Class\" for the unified language. We will use this classified_table for the remaining parts of this project. "
   ]
  },
  {
   "cell_type": "code",
   "execution_count": 105,
   "id": "fd0c139d",
   "metadata": {},
   "outputs": [],
   "source": [
    "def standard_units(attribute):\n",
    "    \"\"\"Converts an array to standard units\"\"\"\n",
    "    return (attribute - np.average(attribute))/np.std(attribute)\n"
   ]
  },
  {
   "cell_type": "code",
   "execution_count": 106,
   "id": "e71f8c2c",
   "metadata": {},
   "outputs": [
    {
     "data": {
      "text/html": [
       "<table border=\"1\" class=\"dataframe\">\n",
       "    <thead>\n",
       "        <tr>\n",
       "            <th>BloodPressure</th> <th>Glucose</th> <th>Class</th>\n",
       "        </tr>\n",
       "    </thead>\n",
       "    <tbody>\n",
       "        <tr>\n",
       "            <td>0.149641     </td> <td>0.848324 </td> <td>1    </td>\n",
       "        </tr>\n",
       "        <tr>\n",
       "            <td>-0.160546    </td> <td>-1.1234  </td> <td>0    </td>\n",
       "        </tr>\n",
       "        <tr>\n",
       "            <td>-0.263941    </td> <td>1.94372  </td> <td>1    </td>\n",
       "        </tr>\n",
       "        <tr>\n",
       "            <td>-0.160546    </td> <td>-0.998208</td> <td>0    </td>\n",
       "        </tr>\n",
       "        <tr>\n",
       "            <td>-1.50469     </td> <td>0.504055 </td> <td>1    </td>\n",
       "        </tr>\n",
       "        <tr>\n",
       "            <td>0.253036     </td> <td>-0.153185</td> <td>0    </td>\n",
       "        </tr>\n",
       "        <tr>\n",
       "            <td>-0.98771     </td> <td>-1.34248 </td> <td>1    </td>\n",
       "        </tr>\n",
       "        <tr>\n",
       "            <td>-3.5726      </td> <td>-0.184482</td> <td>0    </td>\n",
       "        </tr>\n",
       "        <tr>\n",
       "            <td>0.0462453    </td> <td>2.38188  </td> <td>1    </td>\n",
       "        </tr>\n",
       "        <tr>\n",
       "            <td>1.39039      </td> <td>0.128489 </td> <td>1    </td>\n",
       "        </tr>\n",
       "    </tbody>\n",
       "</table>\n",
       "<p>... (758 rows omitted)</p>"
      ],
      "text/plain": [
       "BloodPressure | Glucose   | Class\n",
       "0.149641      | 0.848324  | 1\n",
       "-0.160546     | -1.1234   | 0\n",
       "-0.263941     | 1.94372   | 1\n",
       "-0.160546     | -0.998208 | 0\n",
       "-1.50469      | 0.504055  | 1\n",
       "0.253036      | -0.153185 | 0\n",
       "-0.98771      | -1.34248  | 1\n",
       "-3.5726       | -0.184482 | 0\n",
       "0.0462453     | 2.38188   | 1\n",
       "1.39039       | 0.128489  | 1\n",
       "... (758 rows omitted)"
      ]
     },
     "execution_count": 106,
     "metadata": {},
     "output_type": "execute_result"
    }
   ],
   "source": [
    "classified_table = Table().with_columns(\n",
    "                 \"BloodPressure\", standard_units(class_table.column(\"BloodPressure\")),\n",
    "                 \"Glucose\", standard_units(class_table.column(\"Glucose\")),\n",
    "                 \"Class\", class_table.column(\"Outcome\"))\n",
    "classified_table"
   ]
  },
  {
   "cell_type": "markdown",
   "id": "6bb30aad",
   "metadata": {},
   "source": [
    "Below is the visualization of the class_table above:"
   ]
  },
  {
   "cell_type": "code",
   "execution_count": 108,
   "id": "371aa0b1",
   "metadata": {},
   "outputs": [
    {
     "data": {
      "image/png": "[encoded data removed]",
      "text/plain": [
       "<Figure size 500x500 with 1 Axes>"
      ]
     },
     "metadata": {},
     "output_type": "display_data"
    }
   ],
   "source": [
    "color_table = Table().with_columns(\"Class\", make_array(0,1), \"Color\", make_array('darkblue', 'gold'))\n",
    "scatter_table = classified_table.join('Class', color_table)\n",
    "scatter_table.scatter(\"Glucose\", \"BloodPressure\", group = \"Color\")"
   ]
  },
  {
   "cell_type": "markdown",
   "id": "552a7701",
   "metadata": {},
   "source": [
    "Every dot on the plot represents a patient's diagnostic result of diabetes with the tested measurements of their Blood Pressure and Glucose. \n",
    "Looking at the scatter plot, the dark blue dots are diabetes negative and the gold dots are diabetes positive patients.\n",
    "Suppose, I am given a new 21-year-old female patient's Blood Pressure and Glucose measurements, my classifier will need to diagnose whether this new patient has positive or negative to diabetes by calculating the distances between that patient to the other \"k\" nearest patients, then choose the the majority votes among the classes of the \"k\" nearest patients, and classify that vote as the new patient's result.  \n",
    "\n",
    "As a standard accuracy in machine learning, I will also need to check the accuracy of my classifier to be above 70% to be sufficient on this project. "
   ]
  },
  {
   "cell_type": "markdown",
   "id": "00c1533d",
   "metadata": {},
   "source": [
    "Next, I will define a function to calculate the distance between 2 points; which are 1 point of the measurements of an existing patient data (with known class) and 1 point of measurements of a new patient (need to predict the class). \n",
    "This distance is called Euclidean distance and the formula comes from the Pythogorean theorem; I will need to find the distance of a right triangle, which is the hypotenuse, by using the given side lengths. "
   ]
  },
  {
   "cell_type": "code",
   "execution_count": 109,
   "id": "2e21465d",
   "metadata": {},
   "outputs": [],
   "source": [
    "# Find the distance between points when there are two attribute measurements of each patient  \n",
    "\n",
    "def distance(point1, point2):\n",
    "    \"\"\"Returns the Euclidean distance between point1 and point2\n",
    "    Each argument is an array containing the coordinates of a point.\"\"\"\n",
    "    return np.sqrt(np.sum((point1 - point2)**2))"
   ]
  },
  {
   "cell_type": "markdown",
   "id": "1e5588da",
   "metadata": {},
   "source": [
    "The following is an example of how this distance function is used when applying the function to 2 patients's attributes. "
   ]
  },
  {
   "cell_type": "code",
   "execution_count": 110,
   "id": "08e167dc",
   "metadata": {},
   "outputs": [
    {
     "data": {
      "text/html": [
       "<table border=\"1\" class=\"dataframe\">\n",
       "    <thead>\n",
       "        <tr>\n",
       "            <th>BloodPressure</th> <th>Glucose</th>\n",
       "        </tr>\n",
       "    </thead>\n",
       "    <tbody>\n",
       "        <tr>\n",
       "            <td>0.149641     </td> <td>0.848324 </td>\n",
       "        </tr>\n",
       "        <tr>\n",
       "            <td>-0.160546    </td> <td>-1.1234  </td>\n",
       "        </tr>\n",
       "        <tr>\n",
       "            <td>-0.263941    </td> <td>1.94372  </td>\n",
       "        </tr>\n",
       "        <tr>\n",
       "            <td>-0.160546    </td> <td>-0.998208</td>\n",
       "        </tr>\n",
       "        <tr>\n",
       "            <td>-1.50469     </td> <td>0.504055 </td>\n",
       "        </tr>\n",
       "        <tr>\n",
       "            <td>0.253036     </td> <td>-0.153185</td>\n",
       "        </tr>\n",
       "        <tr>\n",
       "            <td>-0.98771     </td> <td>-1.34248 </td>\n",
       "        </tr>\n",
       "        <tr>\n",
       "            <td>-3.5726      </td> <td>-0.184482</td>\n",
       "        </tr>\n",
       "        <tr>\n",
       "            <td>0.0462453    </td> <td>2.38188  </td>\n",
       "        </tr>\n",
       "        <tr>\n",
       "            <td>1.39039      </td> <td>0.128489 </td>\n",
       "        </tr>\n",
       "    </tbody>\n",
       "</table>\n",
       "<p>... (758 rows omitted)</p>"
      ],
      "text/plain": [
       "BloodPressure | Glucose\n",
       "0.149641      | 0.848324\n",
       "-0.160546     | -1.1234\n",
       "-0.263941     | 1.94372\n",
       "-0.160546     | -0.998208\n",
       "-1.50469      | 0.504055\n",
       "0.253036      | -0.153185\n",
       "-0.98771      | -1.34248\n",
       "-3.5726       | -0.184482\n",
       "0.0462453     | 2.38188\n",
       "1.39039       | 0.128489\n",
       "... (758 rows omitted)"
      ]
     },
     "execution_count": 110,
     "metadata": {},
     "output_type": "execute_result"
    }
   ],
   "source": [
    "example = classified_table.drop(\"Class\")\n",
    "example"
   ]
  },
  {
   "cell_type": "code",
   "execution_count": 111,
   "id": "1f2987ac",
   "metadata": {},
   "outputs": [
    {
     "data": {
      "text/plain": [
       "1.9959699487757707"
      ]
     },
     "execution_count": 111,
     "metadata": {},
     "output_type": "execute_result"
    }
   ],
   "source": [
    "# An example of distance between 2 points\n",
    "\n",
    "distance(np.array(example.row(0)), np.array(example.row(1)))"
   ]
  },
  {
   "cell_type": "markdown",
   "id": "5860f310",
   "metadata": {},
   "source": [
    "The next step is to split the data set to half randomized patients for a training set and the other half for a test set. \n",
    "\n",
    "The training set is used to build the classifier by calculating the distances between one point on the training set with the other points on the training set, then check to see if the class of that one point matches with what is already known. \n",
    "\n",
    "The testing set is then used to check the accuracy of the built classifier by computing the proportion of the time the classifier is correct. This proportion is an indication of an estimate of the correct percentage of all new patients (on the testing set) whose class the classifier will accurately predict. "
   ]
  },
  {
   "cell_type": "code",
   "execution_count": 85,
   "id": "b0e6926a",
   "metadata": {},
   "outputs": [
    {
     "name": "stdout",
     "output_type": "stream",
     "text": [
      "Total of patients in the whole data set is 768\n",
      "Half of patients in each test and training set is 384\n"
     ]
    }
   ],
   "source": [
    "# Split the classified_table data set to half \n",
    "\n",
    "total_patients = classified_table.num_rows\n",
    "half_patients = total_patients / 2\n",
    "print(\"Total of patients in the whole data set is\", total_patients) \n",
    "print(\"Half of patients in each test and training set is\",\"%d\" %half_patients)\n",
    "\n",
    "shuffled_classified = classified_table.sample(with_replacement=False)\n",
    "training_set = shuffled_classified.take(np.arange(384))\n",
    "test_set = shuffled_classified.take(np.arange(384, 768))\n",
    " \n"
   ]
  },
  {
   "cell_type": "code",
   "execution_count": 86,
   "id": "73d3d433",
   "metadata": {},
   "outputs": [
    {
     "data": {
      "text/html": [
       "<table border=\"1\" class=\"dataframe\">\n",
       "    <thead>\n",
       "        <tr>\n",
       "            <th>BloodPressure</th> <th>Glucose</th> <th>Class</th>\n",
       "        </tr>\n",
       "    </thead>\n",
       "    <tbody>\n",
       "        <tr>\n",
       "            <td>0.976805     </td> <td>1.47427  </td> <td>1    </td>\n",
       "        </tr>\n",
       "        <tr>\n",
       "            <td>1.0802       </td> <td>-1.15469 </td> <td>0    </td>\n",
       "        </tr>\n",
       "        <tr>\n",
       "            <td>-0.574128    </td> <td>-1.18599 </td> <td>0    </td>\n",
       "        </tr>\n",
       "        <tr>\n",
       "            <td>0.0462453    </td> <td>0.78573  </td> <td>1    </td>\n",
       "        </tr>\n",
       "        <tr>\n",
       "            <td>-0.884314    </td> <td>-1.21729 </td> <td>0    </td>\n",
       "        </tr>\n",
       "        <tr>\n",
       "            <td>0.149641     </td> <td>1.81854  </td> <td>1    </td>\n",
       "        </tr>\n",
       "        <tr>\n",
       "            <td>0.821712     </td> <td>1.97502  </td> <td>1    </td>\n",
       "        </tr>\n",
       "        <tr>\n",
       "            <td>0.253036     </td> <td>1.13     </td> <td>0    </td>\n",
       "        </tr>\n",
       "        <tr>\n",
       "            <td>-0.367337    </td> <td>-0.434859</td> <td>1    </td>\n",
       "        </tr>\n",
       "        <tr>\n",
       "            <td>0.304734     </td> <td>-0.497453</td> <td>0    </td>\n",
       "        </tr>\n",
       "    </tbody>\n",
       "</table>\n",
       "<p>... (374 rows omitted)</p>"
      ],
      "text/plain": [
       "BloodPressure | Glucose   | Class\n",
       "0.976805      | 1.47427   | 1\n",
       "1.0802        | -1.15469  | 0\n",
       "-0.574128     | -1.18599  | 0\n",
       "0.0462453     | 0.78573   | 1\n",
       "-0.884314     | -1.21729  | 0\n",
       "0.149641      | 1.81854   | 1\n",
       "0.821712      | 1.97502   | 1\n",
       "0.253036      | 1.13      | 0\n",
       "-0.367337     | -0.434859 | 1\n",
       "0.304734      | -0.497453 | 0\n",
       "... (374 rows omitted)"
      ]
     },
     "execution_count": 86,
     "metadata": {},
     "output_type": "execute_result"
    }
   ],
   "source": [
    "# This is the training set \n",
    "\n",
    "training_set "
   ]
  },
  {
   "cell_type": "code",
   "execution_count": 87,
   "id": "28598307",
   "metadata": {},
   "outputs": [
    {
     "data": {
      "text/html": [
       "<table border=\"1\" class=\"dataframe\">\n",
       "    <thead>\n",
       "        <tr>\n",
       "            <th>BloodPressure</th> <th>Glucose</th> <th>Class</th>\n",
       "        </tr>\n",
       "    </thead>\n",
       "    <tbody>\n",
       "        <tr>\n",
       "            <td>0.666618     </td> <td>-0.810425 </td> <td>1    </td>\n",
       "        </tr>\n",
       "        <tr>\n",
       "            <td>0.873409     </td> <td>1.0987    </td> <td>1    </td>\n",
       "        </tr>\n",
       "        <tr>\n",
       "            <td>-0.677523    </td> <td>0.78573   </td> <td>0    </td>\n",
       "        </tr>\n",
       "        <tr>\n",
       "            <td>-3.5726      </td> <td>-0.184482 </td> <td>0    </td>\n",
       "        </tr>\n",
       "        <tr>\n",
       "            <td>-0.884314    </td> <td>-0.904316 </td> <td>0    </td>\n",
       "        </tr>\n",
       "        <tr>\n",
       "            <td>0.0462453    </td> <td>-1.65545  </td> <td>0    </td>\n",
       "        </tr>\n",
       "        <tr>\n",
       "            <td>0.459827     </td> <td>-0.0279963</td> <td>0    </td>\n",
       "        </tr>\n",
       "        <tr>\n",
       "            <td>-3.5726      </td> <td>-1.27988  </td> <td>0    </td>\n",
       "        </tr>\n",
       "        <tr>\n",
       "            <td>-0.574128    </td> <td>-1.0295   </td> <td>0    </td>\n",
       "        </tr>\n",
       "        <tr>\n",
       "            <td>-0.212243    </td> <td>-1.1234   </td> <td>0    </td>\n",
       "        </tr>\n",
       "    </tbody>\n",
       "</table>\n",
       "<p>... (374 rows omitted)</p>"
      ],
      "text/plain": [
       "BloodPressure | Glucose    | Class\n",
       "0.666618      | -0.810425  | 1\n",
       "0.873409      | 1.0987     | 1\n",
       "-0.677523     | 0.78573    | 0\n",
       "-3.5726       | -0.184482  | 0\n",
       "-0.884314     | -0.904316  | 0\n",
       "0.0462453     | -1.65545   | 0\n",
       "0.459827      | -0.0279963 | 0\n",
       "-3.5726       | -1.27988   | 0\n",
       "-0.574128     | -1.0295    | 0\n",
       "-0.212243     | -1.1234    | 0\n",
       "... (374 rows omitted)"
      ]
     },
     "execution_count": 87,
     "metadata": {},
     "output_type": "execute_result"
    }
   ],
   "source": [
    "# This is the test set \n",
    "\n",
    "test_set"
   ]
  },
  {
   "cell_type": "markdown",
   "id": "c048fa90",
   "metadata": {},
   "source": [
    "I will then define the following function to calculate the distances between each point on the training set and a new point being given to predict. This is part of the classifer building using the training set data. "
   ]
  },
  {
   "cell_type": "code",
   "execution_count": 88,
   "id": "4adcf720",
   "metadata": {},
   "outputs": [],
   "source": [
    "def all_distances(training, new_point):\n",
    "    \"\"\"Returns an array of distances between each point\n",
    "    in the trainining set and the new point\"\"\"\n",
    "    attributes = training.drop(\"Class\")\n",
    "    def distance_from_point(row):\n",
    "        return distance(np.array(new_point), np.array(row))\n",
    "    return attributes.apply(distance_from_point)"
   ]
  },
  {
   "cell_type": "markdown",
   "id": "7a11516e",
   "metadata": {},
   "source": [
    "The next function being defined is used to create a new table containing the available data in the training set with an additional column listing out the distances calculated in the previous step. "
   ]
  },
  {
   "cell_type": "code",
   "execution_count": 89,
   "id": "e2392bd3",
   "metadata": {},
   "outputs": [],
   "source": [
    "def table_with_distances(training, new_point):\n",
    "    \"\"\"Returns a table combined the training table\n",
    "    with a column of distances from a new_point\"\"\"\n",
    "    return training.with_column(\"Distance\", all_distances(training, new_point))"
   ]
  },
  {
   "cell_type": "markdown",
   "id": "b7272c17",
   "metadata": {},
   "source": [
    "I will then define a function that takes the data set from the training table, a new point to be predicted and a number \"k\" neighbors. This function helps to produce a table with the \"k\" nearest neighbors and their classes with the distances being calculated. I will then use these neighbors for the final result of the classification of the new point. "
   ]
  },
  {
   "cell_type": "code",
   "execution_count": 90,
   "id": "7683001b",
   "metadata": {},
   "outputs": [],
   "source": [
    "def closest(training, new_point, k):\n",
    "    \"\"\"Returns a table of the k rows of the augmented table above\n",
    "    showing the k neighbors of smallest distances\"\"\"\n",
    "    with_dists = table_with_distances(training, new_point)\n",
    "    sorted_by_distance = with_dists.sort(\"Distance\")\n",
    "    topk = sorted_by_distance.take(np.arange(k))\n",
    "    return topk"
   ]
  },
  {
   "cell_type": "markdown",
   "id": "8ab0a477",
   "metadata": {},
   "source": [
    "The following example shows how the closest function being applied: "
   ]
  },
  {
   "cell_type": "markdown",
   "id": "510902be",
   "metadata": {},
   "source": [
    "This train_point from the training_set is used as a new_point to be predicted its class.\n",
    "We can see its attributes' measurements and its known class. \n",
    "The resulted class will need to match with this known class."
   ]
  },
  {
   "cell_type": "code",
   "execution_count": 91,
   "id": "c875cf57",
   "metadata": {},
   "outputs": [
    {
     "data": {
      "text/plain": [
       "Row(BloodPressure=-0.88431424528869484, Glucose=-1.2172877969596361, Class=0)"
      ]
     },
     "execution_count": 91,
     "metadata": {},
     "output_type": "execute_result"
    }
   ],
   "source": [
    "train_point = training_set.row(4)\n",
    "train_point"
   ]
  },
  {
   "cell_type": "markdown",
   "id": "2e40c2e2",
   "metadata": {},
   "source": [
    "The class of train_point is known as 0. As a effective classfier, we want to expect the result of the classifier to produce out the class of train_point is 0, which is negative to diabetes patient. "
   ]
  },
  {
   "cell_type": "code",
   "execution_count": 92,
   "id": "67028eac",
   "metadata": {},
   "outputs": [
    {
     "data": {
      "text/plain": [
       "Row(BloodPressure=-0.88431424528869484, Glucose=-1.2172877969596361)"
      ]
     },
     "execution_count": 92,
     "metadata": {},
     "output_type": "execute_result"
    }
   ],
   "source": [
    "# I will drop the \"known\" class and implement this row of attributes' measurements to \n",
    "# the previous function \"closest\" for calculation of the nearest neighbor distances.\n",
    "\n",
    "train_point = training_set.drop(\"Class\").row(4)\n",
    "train_point"
   ]
  },
  {
   "cell_type": "markdown",
   "id": "0d5fc8f9",
   "metadata": {},
   "source": [
    "Since the train_point is part of the training_set, I will expect that the first nearest neighbor distance is 0, which is its own train_point. The remaining nearest neighbors are the other 4 as I choose k to be 5 neighbors. \n",
    "\n",
    "About choosing the number \"k\" of neighbors, this is varied and is picked by the further technique that is not in the scope of the course yet. Therefore, for now, I will go with a \"k\" that is most reasonable. "
   ]
  },
  {
   "cell_type": "code",
   "execution_count": 93,
   "id": "dd2b1083",
   "metadata": {},
   "outputs": [
    {
     "data": {
      "text/html": [
       "<table border=\"1\" class=\"dataframe\">\n",
       "    <thead>\n",
       "        <tr>\n",
       "            <th>BloodPressure</th> <th>Glucose</th> <th>Class</th> <th>Distance</th>\n",
       "        </tr>\n",
       "    </thead>\n",
       "    <tbody>\n",
       "        <tr>\n",
       "            <td>-0.884314    </td> <td>-1.21729</td> <td>0    </td> <td>0       </td>\n",
       "        </tr>\n",
       "        <tr>\n",
       "            <td>-0.98771     </td> <td>-1.15469</td> <td>0    </td> <td>0.120866</td>\n",
       "        </tr>\n",
       "        <tr>\n",
       "            <td>-0.98771     </td> <td>-1.34248</td> <td>1    </td> <td>0.162366</td>\n",
       "        </tr>\n",
       "        <tr>\n",
       "            <td>-0.729221    </td> <td>-1.27988</td> <td>0    </td> <td>0.167248</td>\n",
       "        </tr>\n",
       "        <tr>\n",
       "            <td>-0.884314    </td> <td>-1.46766</td> <td>0    </td> <td>0.250377</td>\n",
       "        </tr>\n",
       "    </tbody>\n",
       "</table>"
      ],
      "text/plain": [
       "BloodPressure | Glucose  | Class | Distance\n",
       "-0.884314     | -1.21729 | 0     | 0\n",
       "-0.98771      | -1.15469 | 0     | 0.120866\n",
       "-0.98771      | -1.34248 | 1     | 0.162366\n",
       "-0.729221     | -1.27988 | 0     | 0.167248\n",
       "-0.884314     | -1.46766 | 0     | 0.250377"
      ]
     },
     "execution_count": 93,
     "metadata": {},
     "output_type": "execute_result"
    }
   ],
   "source": [
    "# Apply \"closest\" function to the training_set and the train_point\n",
    "\n",
    "closest(training_set, train_point, 5)"
   ]
  },
  {
   "cell_type": "markdown",
   "id": "ae1c39c9",
   "metadata": {},
   "source": [
    "The following function counts the numbers of each class in the neighbors and returns which class is the majority vote. "
   ]
  },
  {
   "cell_type": "code",
   "execution_count": 94,
   "id": "1e5faf05",
   "metadata": {},
   "outputs": [],
   "source": [
    "def majority(topkclasses):\n",
    "    \"\"\"Takes the majority vote on the class in k neighbors\"\"\"\n",
    "    ones = topkclasses.where(\"Class\", are.equal_to(1)).num_rows\n",
    "    zeros = topkclasses.where(\"Class\", are.equal_to(0)).num_rows\n",
    "    if ones > zeros:\n",
    "        return 1\n",
    "    else:\n",
    "        return 0 \n",
    "    "
   ]
  },
  {
   "cell_type": "markdown",
   "id": "9ffec703",
   "metadata": {},
   "source": [
    "This following final function is the built classifier. \n",
    "\n",
    "It takes in arguments of the new_point, training_set data and the number of neighbors. Then it will do the classify process to \n",
    "produce the prediction of the new_point's class."
   ]
  },
  {
   "cell_type": "code",
   "execution_count": 95,
   "id": "52901837",
   "metadata": {},
   "outputs": [],
   "source": [
    "def classify(training, new_point, k):\n",
    "    \"\"\"Returns the predicition on the class of the new point.\n",
    "    This is the built classifer\"\"\"\n",
    "    closestk = closest(training, new_point, k)\n",
    "    topkclasses = closestk.select(\"Class\")\n",
    "    return majority(topkclasses)"
   ]
  },
  {
   "cell_type": "markdown",
   "id": "a7ec7af0",
   "metadata": {},
   "source": [
    "Now, to follow up with the previous example train_point prediction, I will apply the built classifier \"classify\" to the training_set and the selected train_point."
   ]
  },
  {
   "cell_type": "code",
   "execution_count": 96,
   "id": "293d0ad4",
   "metadata": {},
   "outputs": [
    {
     "data": {
      "text/plain": [
       "0"
      ]
     },
     "execution_count": 96,
     "metadata": {},
     "output_type": "execute_result"
    }
   ],
   "source": [
    "classify(training_set, train_point, 5)\n"
   ]
  },
  {
   "cell_type": "markdown",
   "id": "03f7d523",
   "metadata": {},
   "source": [
    "The predicted class is 0, negative to diabetes, which matches with the known class of the train_point. This proves that the classifier works effectively. "
   ]
  },
  {
   "cell_type": "markdown",
   "id": "2b62cf65",
   "metadata": {},
   "source": [
    "Let's apply the classifier on another train_point_2 in the training set. "
   ]
  },
  {
   "cell_type": "code",
   "execution_count": 97,
   "id": "43c82e02",
   "metadata": {},
   "outputs": [
    {
     "data": {
      "text/plain": [
       "Row(BloodPressure=0.45982725200327884, Glucose=-0.15318485583915073, Class=0)"
      ]
     },
     "execution_count": 97,
     "metadata": {},
     "output_type": "execute_result"
    }
   ],
   "source": [
    "train_point_2 = training_set.row(11)\n",
    "train_point_2\n"
   ]
  },
  {
   "cell_type": "code",
   "execution_count": 98,
   "id": "9fdb092c",
   "metadata": {},
   "outputs": [],
   "source": [
    "train_point_2 = training_set.drop(\"Class\").row(11)\n"
   ]
  },
  {
   "cell_type": "code",
   "execution_count": 99,
   "id": "9f35c169",
   "metadata": {},
   "outputs": [
    {
     "data": {
      "text/plain": [
       "0"
      ]
     },
     "execution_count": 99,
     "metadata": {},
     "output_type": "execute_result"
    }
   ],
   "source": [
    "classify(training_set, train_point_2, 5)"
   ]
  },
  {
   "cell_type": "markdown",
   "id": "f043a071",
   "metadata": {},
   "source": [
    "Bingo! The classfier works on this train_point_2 as well. The known class is \"0\" which is negative diabetes patient and it matches with the prediction of the classifier.  "
   ]
  },
  {
   "cell_type": "markdown",
   "id": "3660078a",
   "metadata": {},
   "source": [
    "We have built our classifier and implemented it on some of the training points\n",
    "from the training set. \n",
    "The outcome matches with the class of the corresponding training point. \n",
    "Now, we will check the accuracy of the classifier with the testing set.  "
   ]
  },
  {
   "cell_type": "markdown",
   "id": "245e3d1b",
   "metadata": {},
   "source": [
    "The following functions will identify the matching results of class between the test_set and the results from the classifier's prediction, applying to the whole test_set. Then, it produces the output that is the proportion of the accuracy performance between the classifier and the test_set. "
   ]
  },
  {
   "cell_type": "code",
   "execution_count": 100,
   "id": "a7295f2c",
   "metadata": {},
   "outputs": [],
   "source": [
    "def count_zero(array):\n",
    "    \"\"\"Counts the number of 0's in an array\"\"\"\n",
    "    return len(array) - np.count_nonzero(array)\n",
    "\n",
    "def count_equal(array1, array2):\n",
    "    \"\"\"Takes two numerical arrays of equal length and\n",
    "    counts the indices where the two are equal\"\"\"\n",
    "    return count_zero(array1 - array2)\n",
    "\n",
    "def evaluate_accuracy(training, test, k):\n",
    "    test_attributes = test.drop(\"Class\")\n",
    "    def classify_testrow(row):\n",
    "        return classify(training, row, k)\n",
    "    c = test_attributes.apply(classify_testrow)\n",
    "    return count_equal(c, test.column(\"Class\")) / test.num_rows"
   ]
  },
  {
   "cell_type": "markdown",
   "id": "9adc9406",
   "metadata": {},
   "source": [
    "I now use the function evaluate_accurary to check the accuracy of the classifier. "
   ]
  },
  {
   "cell_type": "code",
   "execution_count": 101,
   "id": "df1d112c",
   "metadata": {},
   "outputs": [
    {
     "data": {
      "text/plain": [
       "0.7291666666666666"
      ]
     },
     "execution_count": 101,
     "metadata": {},
     "output_type": "execute_result"
    }
   ],
   "source": [
    "evaluate_accuracy(training_set, test_set, 5)"
   ]
  },
  {
   "cell_type": "markdown",
   "id": "b0ba6b13",
   "metadata": {},
   "source": [
    "The accuracy fluctuates in the range of 70% to 74%, varied upon the shuffling training and test sets. This passes the standard that is set at the beginning. \n",
    "\n",
    "This concludes my classifier building process using kNN method to predict a new 21-year-old female patient on diabetes diagnosis using 2 attributes of measurements, which are Glucose and Blood Pressure of the patient.  "
   ]
  }
 ],
 "metadata": {
  "kernelspec": {
   "display_name": "Python 3 (ipykernel)",
   "language": "python",
   "name": "python3"
  },
  "language_info": {
   "codemirror_mode": {
    "name": "ipython",
    "version": 3
   },
   "file_extension": ".py",
   "mimetype": "text/x-python",
   "name": "python",
   "nbconvert_exporter": "python",
   "pygments_lexer": "ipython3",
   "version": "3.11.5"
  }
 },
 "nbformat": 4,
 "nbformat_minor": 5
}
